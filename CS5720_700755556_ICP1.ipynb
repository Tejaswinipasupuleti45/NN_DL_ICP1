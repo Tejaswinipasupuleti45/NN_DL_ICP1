{
  "cells": [
    {
      "cell_type": "markdown",
      "metadata": {
        "id": "3LFsFQqvkxO7"
      },
      "source": [
        "# Neural Networks & Deep Learning - ICP-1\n",
        "\n"
      ]
    },
    {
      "cell_type": "markdown",
      "metadata": {
        "id": "bA4RpOdSmi-R"
      },
      "source": [
        "Question-1a\n"
      ]
    },
    {
      "cell_type": "code",
      "execution_count": 1,
      "metadata": {
        "colab": {
          "base_uri": "https://localhost:8080/"
        },
        "id": "vMNwK6-4jhnm",
        "outputId": "7c0475fb-374c-44e9-84fa-94c3ecd9eb97"
      },
      "outputs": [
        {
          "name": "stdout",
          "output_type": "stream",
          "text": [
            "Enter a string: PYTHON\n",
            "NOHT\n"
          ]
        }
      ],
      "source": [
        "# Take input from the console\n",
        "input_string = input(\"Enter a string: \")\n",
        "\n",
        "# Check if the input string has at least 2 characters\n",
        "if len(input_string) < 2:\n",
        "    print(\"Input string must have at least 2 characters.\")\n",
        "else:\n",
        "    # Delete at least 2 characters\n",
        "    deleted_string = input_string[2:]\n",
        "\n",
        "    # Reverse the resultant string\n",
        "    reversed_string = deleted_string[::-1]\n",
        "\n",
        "    # Print the reversed string\n",
        "    print(reversed_string)\n"
      ]
    },
    {
      "cell_type": "markdown",
      "metadata": {
        "id": "oBqwpEABk718"
      },
      "source": [
        "Question-1b\n"
      ]
    },
    {
      "cell_type": "code",
      "execution_count": null,
      "metadata": {
        "colab": {
          "base_uri": "https://localhost:8080/"
        },
        "id": "I6wf8iOCk_0o",
        "outputId": "c3509a3b-ad82-4c6d-e462-b2b7fe1c274a"
      },
      "outputs": [
        {
          "name": "stdout",
          "output_type": "stream",
          "text": [
            "Enter the first number: 1\n",
            "Enter the second number: 5\n",
            "Addition: 1.0 + 5.0 = 6.0\n",
            "Subtraction: 1.0 - 5.0 = -4.0\n",
            "Multiplication: 1.0 * 5.0 = 5.0\n",
            "Division: 1.0 / 5.0 = 0.2\n"
          ]
        }
      ],
      "source": [
        "# Take two numbers from the user\n",
        "num1 = float(input(\"Enter the first number: \"))\n",
        "num2 = float(input(\"Enter the second number: \"))\n",
        "\n",
        "# Perform arithmetic operations\n",
        "addition_result = num1 + num2\n",
        "subtraction_result = num1 - num2\n",
        "multiplication_result = num1 * num2\n",
        "\n",
        "# Check if the second number is not zero to avoid division by zero error\n",
        "if num2 != 0:\n",
        "    division_result = num1 / num2\n",
        "else:\n",
        "    division_result = \"Division by zero is not allowed.\"\n",
        "\n",
        "# Print the results\n",
        "print(f\"Addition: {num1} + {num2} = {addition_result}\")\n",
        "print(f\"Subtraction: {num1} - {num2} = {subtraction_result}\")\n",
        "print(f\"Multiplication: {num1} * {num2} = {multiplication_result}\")\n",
        "print(f\"Division: {num1} / {num2} = {division_result}\")\n"
      ]
    },
    {
      "cell_type": "markdown",
      "metadata": {
        "id": "5gJO-LyWlXyM"
      },
      "source": [
        "Question-2"
      ]
    },
    {
      "cell_type": "code",
      "execution_count": null,
      "metadata": {
        "colab": {
          "base_uri": "https://localhost:8080/"
        },
        "id": "5iR576sSlaZ6",
        "outputId": "335e78a3-0935-4dc9-a38f-7b74146fbc86"
      },
      "outputs": [
        {
          "name": "stdout",
          "output_type": "stream",
          "text": [
            "Enter a sentence: I love playing with python\n",
            "Modified sentence:\n",
            "I love playing with pythons\n"
          ]
        }
      ],
      "source": [
        "# Take input sentence from the user\n",
        "input_sentence = input(\"Enter a sentence: \")\n",
        "\n",
        "# Replace 'python' with 'pythons' in the sentence\n",
        "output_sentence = input_sentence.replace('python', 'pythons')\n",
        "\n",
        "# Print the modified sentence\n",
        "print(\"Modified sentence:\")\n",
        "print(output_sentence)\n"
      ]
    },
    {
      "cell_type": "markdown",
      "metadata": {
        "id": "_goQxB7DmJQH"
      },
      "source": [
        "Question-3\n"
      ]
    },
    {
      "cell_type": "code",
      "execution_count": null,
      "metadata": {
        "colab": {
          "base_uri": "https://localhost:8080/"
        },
        "id": "7e8MA-eLmLPg",
        "outputId": "4fbbcebf-1623-4f79-d03c-80d03aae10e1"
      },
      "outputs": [
        {
          "name": "stdout",
          "output_type": "stream",
          "text": [
            "Enter the class score: 69\n",
            "Your letter grade for the class score 69.0 is: D\n"
          ]
        }
      ],
      "source": [
        "# Get the class score from the user\n",
        "class_score = float(input(\"Enter the class score: \"))\n",
        "\n",
        "# Determine the letter grade based on the grading scheme\n",
        "if class_score >= 90:\n",
        "    grade = \"A\"\n",
        "elif class_score >= 80:\n",
        "    grade = \"B\"\n",
        "elif class_score >= 70:\n",
        "    grade = \"C\"\n",
        "elif class_score >= 60:\n",
        "    grade = \"D\"\n",
        "else:\n",
        "    grade = \"F\"\n",
        "\n",
        "# Print the letter grade\n",
        "print(f\"Your letter grade for the class score {class_score} is: {grade}\")\n"
      ]
    },
    {
      "cell_type": "code",
      "execution_count": null,
      "metadata": {
        "id": "XDdMnOehc5JE"
      },
      "outputs": [],
      "source": []
    }
  ],
  "metadata": {
    "colab": {
      "provenance": []
    },
    "kernelspec": {
      "display_name": "Python 3 (ipykernel)",
      "language": "python",
      "name": "python3"
    },
    "language_info": {
      "codemirror_mode": {
        "name": "ipython",
        "version": 3
      },
      "file_extension": ".py",
      "mimetype": "text/x-python",
      "name": "python",
      "nbconvert_exporter": "python",
      "pygments_lexer": "ipython3",
      "version": "3.11.4"
    }
  },
  "nbformat": 4,
  "nbformat_minor": 0
}
